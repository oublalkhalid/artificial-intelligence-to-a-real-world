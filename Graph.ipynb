{
  "nbformat": 4,
  "nbformat_minor": 0,
  "metadata": {
    "accelerator": "GPU",
    "colab": {
      "name": "Graph.ipynb",
      "provenance": [],
      "collapsed_sections": []
    },
    "kernelspec": {
      "display_name": "Python 3",
      "name": "python3"
    },
    "language_info": {
      "name": "python"
    },
    "widgets": {
      "application/vnd.jupyter.widget-state+json": {
        "8f5f5148e8c1400a8703afc33bde5433": {
          "model_module": "@jupyter-widgets/controls",
          "model_name": "HBoxModel",
          "model_module_version": "1.5.0",
          "state": {
            "_dom_classes": [],
            "_model_module": "@jupyter-widgets/controls",
            "_model_module_version": "1.5.0",
            "_model_name": "HBoxModel",
            "_view_count": null,
            "_view_module": "@jupyter-widgets/controls",
            "_view_module_version": "1.5.0",
            "_view_name": "HBoxView",
            "box_style": "",
            "children": [
              "IPY_MODEL_f395d812d93d4b968d1eca0be8701deb",
              "IPY_MODEL_f16a29d108af4217b3996350ba6de75c",
              "IPY_MODEL_6896149a3c164ac4aa80ec38484376ef"
            ],
            "layout": "IPY_MODEL_7f3737e2029a4611a8a71fecfecfa673"
          }
        },
        "f395d812d93d4b968d1eca0be8701deb": {
          "model_module": "@jupyter-widgets/controls",
          "model_name": "HTMLModel",
          "model_module_version": "1.5.0",
          "state": {
            "_dom_classes": [],
            "_model_module": "@jupyter-widgets/controls",
            "_model_module_version": "1.5.0",
            "_model_name": "HTMLModel",
            "_view_count": null,
            "_view_module": "@jupyter-widgets/controls",
            "_view_module_version": "1.5.0",
            "_view_name": "HTMLView",
            "description": "",
            "description_tooltip": null,
            "layout": "IPY_MODEL_ca92a56bbb0a49f9aff910655f32fe59",
            "placeholder": "​",
            "style": "IPY_MODEL_3c1f5ec89e3142d89101778435513996",
            "value": "100%"
          }
        },
        "f16a29d108af4217b3996350ba6de75c": {
          "model_module": "@jupyter-widgets/controls",
          "model_name": "FloatProgressModel",
          "model_module_version": "1.5.0",
          "state": {
            "_dom_classes": [],
            "_model_module": "@jupyter-widgets/controls",
            "_model_module_version": "1.5.0",
            "_model_name": "FloatProgressModel",
            "_view_count": null,
            "_view_module": "@jupyter-widgets/controls",
            "_view_module_version": "1.5.0",
            "_view_name": "ProgressView",
            "bar_style": "success",
            "description": "",
            "description_tooltip": null,
            "layout": "IPY_MODEL_e1ea7115d6b44a739aa283f1f5e8963d",
            "max": 217801,
            "min": 0,
            "orientation": "horizontal",
            "style": "IPY_MODEL_1b366a4ad28c4a6f9e987454f3d39474",
            "value": 217801
          }
        },
        "6896149a3c164ac4aa80ec38484376ef": {
          "model_module": "@jupyter-widgets/controls",
          "model_name": "HTMLModel",
          "model_module_version": "1.5.0",
          "state": {
            "_dom_classes": [],
            "_model_module": "@jupyter-widgets/controls",
            "_model_module_version": "1.5.0",
            "_model_name": "HTMLModel",
            "_view_count": null,
            "_view_module": "@jupyter-widgets/controls",
            "_view_module_version": "1.5.0",
            "_view_name": "HTMLView",
            "description": "",
            "description_tooltip": null,
            "layout": "IPY_MODEL_0042ddcf13ea43eeac6110b73dfc49f7",
            "placeholder": "​",
            "style": "IPY_MODEL_003d7a9fdda84f5691d9870d0005b191",
            "value": " 217801/217801 [1:01:08&lt;00:00, 62.34it/s]"
          }
        },
        "7f3737e2029a4611a8a71fecfecfa673": {
          "model_module": "@jupyter-widgets/base",
          "model_name": "LayoutModel",
          "model_module_version": "1.2.0",
          "state": {
            "_model_module": "@jupyter-widgets/base",
            "_model_module_version": "1.2.0",
            "_model_name": "LayoutModel",
            "_view_count": null,
            "_view_module": "@jupyter-widgets/base",
            "_view_module_version": "1.2.0",
            "_view_name": "LayoutView",
            "align_content": null,
            "align_items": null,
            "align_self": null,
            "border": null,
            "bottom": null,
            "display": null,
            "flex": null,
            "flex_flow": null,
            "grid_area": null,
            "grid_auto_columns": null,
            "grid_auto_flow": null,
            "grid_auto_rows": null,
            "grid_column": null,
            "grid_gap": null,
            "grid_row": null,
            "grid_template_areas": null,
            "grid_template_columns": null,
            "grid_template_rows": null,
            "height": null,
            "justify_content": null,
            "justify_items": null,
            "left": null,
            "margin": null,
            "max_height": null,
            "max_width": null,
            "min_height": null,
            "min_width": null,
            "object_fit": null,
            "object_position": null,
            "order": null,
            "overflow": null,
            "overflow_x": null,
            "overflow_y": null,
            "padding": null,
            "right": null,
            "top": null,
            "visibility": null,
            "width": null
          }
        },
        "ca92a56bbb0a49f9aff910655f32fe59": {
          "model_module": "@jupyter-widgets/base",
          "model_name": "LayoutModel",
          "model_module_version": "1.2.0",
          "state": {
            "_model_module": "@jupyter-widgets/base",
            "_model_module_version": "1.2.0",
            "_model_name": "LayoutModel",
            "_view_count": null,
            "_view_module": "@jupyter-widgets/base",
            "_view_module_version": "1.2.0",
            "_view_name": "LayoutView",
            "align_content": null,
            "align_items": null,
            "align_self": null,
            "border": null,
            "bottom": null,
            "display": null,
            "flex": null,
            "flex_flow": null,
            "grid_area": null,
            "grid_auto_columns": null,
            "grid_auto_flow": null,
            "grid_auto_rows": null,
            "grid_column": null,
            "grid_gap": null,
            "grid_row": null,
            "grid_template_areas": null,
            "grid_template_columns": null,
            "grid_template_rows": null,
            "height": null,
            "justify_content": null,
            "justify_items": null,
            "left": null,
            "margin": null,
            "max_height": null,
            "max_width": null,
            "min_height": null,
            "min_width": null,
            "object_fit": null,
            "object_position": null,
            "order": null,
            "overflow": null,
            "overflow_x": null,
            "overflow_y": null,
            "padding": null,
            "right": null,
            "top": null,
            "visibility": null,
            "width": null
          }
        },
        "3c1f5ec89e3142d89101778435513996": {
          "model_module": "@jupyter-widgets/controls",
          "model_name": "DescriptionStyleModel",
          "model_module_version": "1.5.0",
          "state": {
            "_model_module": "@jupyter-widgets/controls",
            "_model_module_version": "1.5.0",
            "_model_name": "DescriptionStyleModel",
            "_view_count": null,
            "_view_module": "@jupyter-widgets/base",
            "_view_module_version": "1.2.0",
            "_view_name": "StyleView",
            "description_width": ""
          }
        },
        "e1ea7115d6b44a739aa283f1f5e8963d": {
          "model_module": "@jupyter-widgets/base",
          "model_name": "LayoutModel",
          "model_module_version": "1.2.0",
          "state": {
            "_model_module": "@jupyter-widgets/base",
            "_model_module_version": "1.2.0",
            "_model_name": "LayoutModel",
            "_view_count": null,
            "_view_module": "@jupyter-widgets/base",
            "_view_module_version": "1.2.0",
            "_view_name": "LayoutView",
            "align_content": null,
            "align_items": null,
            "align_self": null,
            "border": null,
            "bottom": null,
            "display": null,
            "flex": null,
            "flex_flow": null,
            "grid_area": null,
            "grid_auto_columns": null,
            "grid_auto_flow": null,
            "grid_auto_rows": null,
            "grid_column": null,
            "grid_gap": null,
            "grid_row": null,
            "grid_template_areas": null,
            "grid_template_columns": null,
            "grid_template_rows": null,
            "height": null,
            "justify_content": null,
            "justify_items": null,
            "left": null,
            "margin": null,
            "max_height": null,
            "max_width": null,
            "min_height": null,
            "min_width": null,
            "object_fit": null,
            "object_position": null,
            "order": null,
            "overflow": null,
            "overflow_x": null,
            "overflow_y": null,
            "padding": null,
            "right": null,
            "top": null,
            "visibility": null,
            "width": null
          }
        },
        "1b366a4ad28c4a6f9e987454f3d39474": {
          "model_module": "@jupyter-widgets/controls",
          "model_name": "ProgressStyleModel",
          "model_module_version": "1.5.0",
          "state": {
            "_model_module": "@jupyter-widgets/controls",
            "_model_module_version": "1.5.0",
            "_model_name": "ProgressStyleModel",
            "_view_count": null,
            "_view_module": "@jupyter-widgets/base",
            "_view_module_version": "1.2.0",
            "_view_name": "StyleView",
            "bar_color": null,
            "description_width": ""
          }
        },
        "0042ddcf13ea43eeac6110b73dfc49f7": {
          "model_module": "@jupyter-widgets/base",
          "model_name": "LayoutModel",
          "model_module_version": "1.2.0",
          "state": {
            "_model_module": "@jupyter-widgets/base",
            "_model_module_version": "1.2.0",
            "_model_name": "LayoutModel",
            "_view_count": null,
            "_view_module": "@jupyter-widgets/base",
            "_view_module_version": "1.2.0",
            "_view_name": "LayoutView",
            "align_content": null,
            "align_items": null,
            "align_self": null,
            "border": null,
            "bottom": null,
            "display": null,
            "flex": null,
            "flex_flow": null,
            "grid_area": null,
            "grid_auto_columns": null,
            "grid_auto_flow": null,
            "grid_auto_rows": null,
            "grid_column": null,
            "grid_gap": null,
            "grid_row": null,
            "grid_template_areas": null,
            "grid_template_columns": null,
            "grid_template_rows": null,
            "height": null,
            "justify_content": null,
            "justify_items": null,
            "left": null,
            "margin": null,
            "max_height": null,
            "max_width": null,
            "min_height": null,
            "min_width": null,
            "object_fit": null,
            "object_position": null,
            "order": null,
            "overflow": null,
            "overflow_x": null,
            "overflow_y": null,
            "padding": null,
            "right": null,
            "top": null,
            "visibility": null,
            "width": null
          }
        },
        "003d7a9fdda84f5691d9870d0005b191": {
          "model_module": "@jupyter-widgets/controls",
          "model_name": "DescriptionStyleModel",
          "model_module_version": "1.5.0",
          "state": {
            "_model_module": "@jupyter-widgets/controls",
            "_model_module_version": "1.5.0",
            "_model_name": "DescriptionStyleModel",
            "_view_count": null,
            "_view_module": "@jupyter-widgets/base",
            "_view_module_version": "1.2.0",
            "_view_name": "StyleView",
            "description_width": ""
          }
        }
      }
    }
  },
  "cells": [
    {
      "cell_type": "code",
      "metadata": {
        "id": "dtkhyY1sPzy5"
      },
      "source": [
        "import os\n",
        "import pandas as pd\n",
        "import numpy as np\n",
        "import networkx as nx\n",
        "from sklearn.linear_model import Lasso\n",
        "from sklearn.ensemble import RandomForestRegressor\n",
        "import itertools\n",
        "import matplotlib.pyplot as plt\n",
        "\n",
        "import torch\n",
        "import torch.nn as nn\n",
        "import torch.nn.functional as F\n",
        "import torch.utils.data as data\n",
        "import torch.optim as optim\n",
        "import torch.nn.functional as F"
      ],
      "execution_count": null,
      "outputs": []
    },
    {
      "cell_type": "code",
      "metadata": {
        "id": "i_FKju0pcMXO"
      },
      "source": [
        "import tqdm.notebook as tqdm"
      ],
      "execution_count": null,
      "outputs": []
    },
    {
      "cell_type": "code",
      "metadata": {
        "colab": {
          "base_uri": "https://localhost:8080/"
        },
        "id": "bAT1-DKzv_1M",
        "outputId": "9be3ebe1-ff12-42a5-edd2-64a0d4f42e45"
      },
      "source": [
        "try: \n",
        "    import torch_geometric\n",
        "except ModuleNotFoundError:\n",
        "    # Installing torch geometric packages with specific CUDA+PyTorch version. \n",
        "    # See https://pytorch-geometric.readthedocs.io/en/latest/notes/installation.html for details \n",
        "    TORCH = torch.__version__.split('+')[0]\n",
        "    CUDA = 'cu' + torch.version.cuda.replace('.','')\n",
        "\n",
        "    !pip install torch-scatter     -f https://pytorch-geometric.com/whl/torch-{TORCH}+{CUDA}.html\n",
        "    !pip install torch-sparse      -f https://pytorch-geometric.com/whl/torch-{TORCH}+{CUDA}.html\n",
        "    !pip install torch-cluster     -f https://pytorch-geometric.com/whl/torch-{TORCH}+{CUDA}.html\n",
        "    !pip install torch-spline-conv -f https://pytorch-geometric.com/whl/torch-{TORCH}+{CUDA}.html\n",
        "    !pip install torch-geometric \n",
        "    import torch_geometric\n",
        "import torch_geometric.nn as geom_nn\n",
        "import torch_geometric.data as geom_data"
      ],
      "execution_count": null,
      "outputs": [
        {
          "name": "stdout",
          "output_type": "stream",
          "text": [
            "Looking in links: https://pytorch-geometric.com/whl/torch-1.10.0+cu111.html\n",
            "Collecting torch-scatter\n",
            "  Downloading https://data.pyg.org/whl/torch-1.10.0%2Bcu113/torch_scatter-2.0.9-cp37-cp37m-linux_x86_64.whl (7.9 MB)\n",
            "\u001b[K     |████████████████████████████████| 7.9 MB 5.4 MB/s \n",
            "\u001b[?25hInstalling collected packages: torch-scatter\n",
            "Successfully installed torch-scatter-2.0.9\n",
            "Looking in links: https://pytorch-geometric.com/whl/torch-1.10.0+cu111.html\n",
            "Collecting torch-sparse\n",
            "  Downloading https://data.pyg.org/whl/torch-1.10.0%2Bcu113/torch_sparse-0.6.12-cp37-cp37m-linux_x86_64.whl (3.5 MB)\n",
            "\u001b[K     |████████████████████████████████| 3.5 MB 5.3 MB/s \n",
            "\u001b[?25hRequirement already satisfied: scipy in /usr/local/lib/python3.7/dist-packages (from torch-sparse) (1.4.1)\n",
            "Requirement already satisfied: numpy>=1.13.3 in /usr/local/lib/python3.7/dist-packages (from scipy->torch-sparse) (1.19.5)\n",
            "Installing collected packages: torch-sparse\n",
            "Successfully installed torch-sparse-0.6.12\n",
            "Looking in links: https://pytorch-geometric.com/whl/torch-1.10.0+cu111.html\n",
            "Collecting torch-cluster\n",
            "  Downloading https://data.pyg.org/whl/torch-1.10.0%2Bcu113/torch_cluster-1.5.9-cp37-cp37m-linux_x86_64.whl (2.3 MB)\n",
            "\u001b[K     |████████████████████████████████| 2.3 MB 5.4 MB/s \n",
            "\u001b[?25hInstalling collected packages: torch-cluster\n",
            "Successfully installed torch-cluster-1.5.9\n",
            "Looking in links: https://pytorch-geometric.com/whl/torch-1.10.0+cu111.html\n",
            "Collecting torch-spline-conv\n",
            "  Downloading https://data.pyg.org/whl/torch-1.10.0%2Bcu113/torch_spline_conv-1.2.1-cp37-cp37m-linux_x86_64.whl (747 kB)\n",
            "\u001b[K     |████████████████████████████████| 747 kB 5.2 MB/s \n",
            "\u001b[?25hInstalling collected packages: torch-spline-conv\n",
            "Successfully installed torch-spline-conv-1.2.1\n",
            "Collecting torch-geometric\n",
            "  Downloading torch_geometric-2.0.2.tar.gz (325 kB)\n",
            "\u001b[K     |████████████████████████████████| 325 kB 5.4 MB/s \n",
            "\u001b[?25hRequirement already satisfied: numpy in /usr/local/lib/python3.7/dist-packages (from torch-geometric) (1.19.5)\n",
            "Requirement already satisfied: tqdm in /usr/local/lib/python3.7/dist-packages (from torch-geometric) (4.62.3)\n",
            "Requirement already satisfied: scipy in /usr/local/lib/python3.7/dist-packages (from torch-geometric) (1.4.1)\n",
            "Requirement already satisfied: networkx in /usr/local/lib/python3.7/dist-packages (from torch-geometric) (2.6.3)\n",
            "Requirement already satisfied: scikit-learn in /usr/local/lib/python3.7/dist-packages (from torch-geometric) (1.0.1)\n",
            "Requirement already satisfied: requests in /usr/local/lib/python3.7/dist-packages (from torch-geometric) (2.23.0)\n",
            "Requirement already satisfied: pandas in /usr/local/lib/python3.7/dist-packages (from torch-geometric) (1.1.5)\n",
            "Collecting rdflib\n",
            "  Downloading rdflib-6.0.2-py3-none-any.whl (407 kB)\n",
            "\u001b[K     |████████████████████████████████| 407 kB 39.1 MB/s \n",
            "\u001b[?25hRequirement already satisfied: googledrivedownloader in /usr/local/lib/python3.7/dist-packages (from torch-geometric) (0.4)\n",
            "Requirement already satisfied: jinja2 in /usr/local/lib/python3.7/dist-packages (from torch-geometric) (2.11.3)\n",
            "Requirement already satisfied: pyparsing in /usr/local/lib/python3.7/dist-packages (from torch-geometric) (3.0.6)\n",
            "Collecting yacs\n",
            "  Downloading yacs-0.1.8-py3-none-any.whl (14 kB)\n",
            "Requirement already satisfied: PyYAML in /usr/local/lib/python3.7/dist-packages (from torch-geometric) (3.13)\n",
            "Requirement already satisfied: MarkupSafe>=0.23 in /usr/local/lib/python3.7/dist-packages (from jinja2->torch-geometric) (2.0.1)\n",
            "Requirement already satisfied: python-dateutil>=2.7.3 in /usr/local/lib/python3.7/dist-packages (from pandas->torch-geometric) (2.8.2)\n",
            "Requirement already satisfied: pytz>=2017.2 in /usr/local/lib/python3.7/dist-packages (from pandas->torch-geometric) (2018.9)\n",
            "Requirement already satisfied: six>=1.5 in /usr/local/lib/python3.7/dist-packages (from python-dateutil>=2.7.3->pandas->torch-geometric) (1.15.0)\n",
            "Requirement already satisfied: setuptools in /usr/local/lib/python3.7/dist-packages (from rdflib->torch-geometric) (57.4.0)\n",
            "Collecting isodate\n",
            "  Downloading isodate-0.6.0-py2.py3-none-any.whl (45 kB)\n",
            "\u001b[K     |████████████████████████████████| 45 kB 3.4 MB/s \n",
            "\u001b[?25hRequirement already satisfied: certifi>=2017.4.17 in /usr/local/lib/python3.7/dist-packages (from requests->torch-geometric) (2021.10.8)\n",
            "Requirement already satisfied: urllib3!=1.25.0,!=1.25.1,<1.26,>=1.21.1 in /usr/local/lib/python3.7/dist-packages (from requests->torch-geometric) (1.24.3)\n",
            "Requirement already satisfied: idna<3,>=2.5 in /usr/local/lib/python3.7/dist-packages (from requests->torch-geometric) (2.10)\n",
            "Requirement already satisfied: chardet<4,>=3.0.2 in /usr/local/lib/python3.7/dist-packages (from requests->torch-geometric) (3.0.4)\n",
            "Requirement already satisfied: threadpoolctl>=2.0.0 in /usr/local/lib/python3.7/dist-packages (from scikit-learn->torch-geometric) (3.0.0)\n",
            "Requirement already satisfied: joblib>=0.11 in /usr/local/lib/python3.7/dist-packages (from scikit-learn->torch-geometric) (1.1.0)\n",
            "Building wheels for collected packages: torch-geometric\n",
            "  Building wheel for torch-geometric (setup.py) ... \u001b[?25l\u001b[?25hdone\n",
            "  Created wheel for torch-geometric: filename=torch_geometric-2.0.2-py3-none-any.whl size=535570 sha256=1aa78b0bbbdebd0cb21db90d85c2ada3252aa36aa41106f842e568beed20e2cf\n",
            "  Stored in directory: /root/.cache/pip/wheels/3f/08/13/2321517088bb2e95bfd0e45033bb9c923189e5b2078e0be4ef\n",
            "Successfully built torch-geometric\n",
            "Installing collected packages: isodate, yacs, rdflib, torch-geometric\n",
            "Successfully installed isodate-0.6.0 rdflib-6.0.2 torch-geometric-2.0.2 yacs-0.1.8\n"
          ]
        }
      ]
    },
    {
      "cell_type": "code",
      "metadata": {
        "id": "_VmPuqYvpjTl"
      },
      "source": [
        "from torch_geometric.data import Data"
      ],
      "execution_count": null,
      "outputs": []
    },
    {
      "cell_type": "code",
      "metadata": {
        "id": "KIAG-QVXItoM"
      },
      "source": [
        "from torch.utils.data import Dataset"
      ],
      "execution_count": null,
      "outputs": []
    },
    {
      "cell_type": "code",
      "metadata": {
        "id": "TJmzWMClGH_f"
      },
      "source": [
        "from torch_geometric.nn import GCNConv"
      ],
      "execution_count": null,
      "outputs": []
    },
    {
      "cell_type": "code",
      "metadata": {
        "id": "V_JlrVZXuOOT"
      },
      "source": [
        "try:\n",
        "    import pytorch_lightning as pl\n",
        "except ModuleNotFoundError:\n",
        "    !pip install --quiet pytorch-lightning>=1.4\n",
        "    import pytorch_lightning as pl\n",
        "from pytorch_lightning.callbacks import LearningRateMonitor, ModelCheckpoint"
      ],
      "execution_count": null,
      "outputs": []
    },
    {
      "cell_type": "code",
      "metadata": {
        "colab": {
          "base_uri": "https://localhost:8080/"
        },
        "id": "fQxopx5NPTah",
        "outputId": "86f0cec4-aee5-4c32-ca8a-44289c1a2167"
      },
      "source": [
        "!pip install git+https://github.com/fiuneuro/brainconn.git"
      ],
      "execution_count": null,
      "outputs": [
        {
          "name": "stdout",
          "output_type": "stream",
          "text": [
            "Collecting git+https://github.com/fiuneuro/brainconn.git\n",
            "  Cloning https://github.com/fiuneuro/brainconn.git to /tmp/pip-req-build-kk2xxsul\n",
            "  Running command git clone -q https://github.com/fiuneuro/brainconn.git /tmp/pip-req-build-kk2xxsul\n",
            "Requirement already satisfied: numpy in /usr/local/lib/python3.7/dist-packages (from brainconn==0.0.1) (1.19.5)\n",
            "Requirement already satisfied: scipy in /usr/local/lib/python3.7/dist-packages (from brainconn==0.0.1) (1.4.1)\n",
            "Building wheels for collected packages: brainconn\n",
            "  Building wheel for brainconn (setup.py) ... \u001b[?25l\u001b[?25hdone\n",
            "  Created wheel for brainconn: filename=brainconn-0.0.1-py3-none-any.whl size=108873 sha256=3c7c98598699bc83bb8b21af6301145e12ae94c1d6aa531ea0e61071d53982d3\n",
            "  Stored in directory: /tmp/pip-ephem-wheel-cache-szj46ufu/wheels/5f/14/55/706218d76ed62fb592168a545321b31b2bd7e4e466a5d849d9\n",
            "Successfully built brainconn\n",
            "Installing collected packages: brainconn\n",
            "Successfully installed brainconn-0.0.1\n"
          ]
        }
      ]
    },
    {
      "cell_type": "code",
      "metadata": {
        "id": "WHJCVar6HAj5"
      },
      "source": [
        "import random"
      ],
      "execution_count": null,
      "outputs": []
    },
    {
      "cell_type": "code",
      "metadata": {
        "id": "Z61G0HCUGnU3"
      },
      "source": [
        "SEED = 1234\n",
        "\n",
        "random.seed(SEED)\n",
        "np.random.seed(SEED)\n",
        "torch.manual_seed(SEED)\n",
        "torch.cuda.manual_seed(SEED)\n",
        "torch.backends.cudnn.deterministic = True"
      ],
      "execution_count": null,
      "outputs": []
    },
    {
      "cell_type": "code",
      "metadata": {
        "id": "wRSHLSo4SjZf"
      },
      "source": [
        "device = torch.device(\"cuda:0\") if torch.cuda.is_available() else torch.device(\"cpu\")"
      ],
      "execution_count": null,
      "outputs": []
    },
    {
      "cell_type": "code",
      "metadata": {
        "colab": {
          "base_uri": "https://localhost:8080/"
        },
        "id": "1U-ubIOqhBiL",
        "outputId": "4b396fbd-2b7c-4308-b907-c54238e3a55f"
      },
      "source": [
        "import brainconn"
      ],
      "execution_count": null,
      "outputs": [
        {
          "name": "stderr",
          "output_type": "stream",
          "text": [
            "Failed to import duecredit due to No module named 'duecredit'\n"
          ]
        }
      ]
    },
    {
      "cell_type": "code",
      "metadata": {
        "colab": {
          "base_uri": "https://localhost:8080/"
        },
        "id": "zIzdPKqGTMk-",
        "outputId": "31a229a7-aab3-49c3-fcf1-bfdd356ec251"
      },
      "source": [
        "from google.colab import drive\n",
        "drive.mount('/content/drive')"
      ],
      "execution_count": null,
      "outputs": [
        {
          "name": "stdout",
          "output_type": "stream",
          "text": [
            "Mounted at /content/drive\n"
          ]
        }
      ]
    },
    {
      "cell_type": "code",
      "metadata": {
        "id": "xyZxrLrbTpBN"
      },
      "source": [
        "DATA_DIR = 'drive/My Drive/INF554/'"
      ],
      "execution_count": null,
      "outputs": []
    },
    {
      "cell_type": "code",
      "metadata": {
        "id": "jEFAJVOxTFUE"
      },
      "source": [
        "df_train = pd.read_csv(DATA_DIR + 'inf554-2021/train.csv', dtype={'author': np.int64, 'hindex': np.float32})\n",
        "n_train = df_train.shape[0]"
      ],
      "execution_count": null,
      "outputs": []
    },
    {
      "cell_type": "code",
      "metadata": {
        "id": "1TqKO5OFT5E7"
      },
      "source": [
        "df_test = pd.read_csv(DATA_DIR + 'inf554-2021/test.csv', dtype={'author': np.int64})\n",
        "n_test = df_test.shape[0]"
      ],
      "execution_count": null,
      "outputs": []
    },
    {
      "cell_type": "code",
      "metadata": {
        "id": "In2Lb8uNVnyG"
      },
      "source": [
        "df_test.drop('Unnamed: 0', axis=1, inplace=True)"
      ],
      "execution_count": null,
      "outputs": []
    },
    {
      "cell_type": "code",
      "metadata": {
        "colab": {
          "base_uri": "https://localhost:8080/"
        },
        "id": "FNDJuq0PT_t8",
        "outputId": "9a84b221-b1c7-4824-a37c-921fdd2f230b"
      },
      "source": [
        "G = nx.read_edgelist(DATA_DIR + 'inf554-2021/coauthorship.edgelist', delimiter=' ', nodetype=int)\n",
        "n_nodes = G.number_of_nodes()\n",
        "n_edges = G.number_of_edges() \n",
        "print('Number of nodes:', n_nodes)\n",
        "print('Number of edges:', n_edges)"
      ],
      "execution_count": null,
      "outputs": [
        {
          "name": "stdout",
          "output_type": "stream",
          "text": [
            "Number of nodes: 217801\n",
            "Number of edges: 1718164\n"
          ]
        }
      ]
    },
    {
      "cell_type": "code",
      "metadata": {
        "id": "PlJph0ItTLh0"
      },
      "source": [
        "core_number = nx.core_number(G)"
      ],
      "execution_count": null,
      "outputs": []
    },
    {
      "cell_type": "code",
      "metadata": {
        "id": "gFFG6_Drgsk7"
      },
      "source": [
        "page_rank = nx.pagerank(G, alpha=0.9)"
      ],
      "execution_count": null,
      "outputs": []
    },
    {
      "cell_type": "code",
      "metadata": {
        "id": "4WSToY_ekof5"
      },
      "source": [
        "average_neighbor_deg = nx.average_neighbor_degree(G)"
      ],
      "execution_count": null,
      "outputs": []
    },
    {
      "cell_type": "code",
      "metadata": {
        "id": "_Ygwj7kn13XK"
      },
      "source": [
        "onion_layers = nx.core.onion_layers(G)"
      ],
      "execution_count": null,
      "outputs": []
    },
    {
      "cell_type": "code",
      "metadata": {
        "id": "_BSyPdnLb_6J"
      },
      "source": [
        "diversity_coeff = dict()\n",
        "\n",
        "for node in list(G.nodes):\n",
        "  degree = G.degree(node)\n",
        "  diversity_coeff[node] = 0.\n",
        "\n",
        "  for neighbor in G.neighbors(node):\n",
        "    p = 1. / G.degree(neighbor)\n",
        "    diversity_coeff[node] += p*np.log(p)\n",
        "  \n",
        "  if np.log(degree) != 0:\n",
        "    diversity_coeff[node] /= np.log(degree)"
      ],
      "execution_count": null,
      "outputs": []
    },
    {
      "cell_type": "code",
      "metadata": {
        "id": "z64ZJjv3jkbJ"
      },
      "source": [
        "#communities = nx.algorithms.community.greedy_modularity_communities(G)"
      ],
      "execution_count": null,
      "outputs": []
    },
    {
      "cell_type": "code",
      "metadata": {
        "id": "rpIgTcd0jtLS"
      },
      "source": [
        "#communities"
      ],
      "execution_count": null,
      "outputs": []
    },
    {
      "cell_type": "code",
      "metadata": {
        "colab": {
          "base_uri": "https://localhost:8080/"
        },
        "id": "otS_l4F9xJKH",
        "outputId": "8dd85f2e-61ed-4300-ef5f-3dba7d4f7635"
      },
      "source": [
        "! pip install python-louvain "
      ],
      "execution_count": null,
      "outputs": [
        {
          "name": "stdout",
          "output_type": "stream",
          "text": [
            "Requirement already satisfied: python-louvain in /usr/local/lib/python3.7/dist-packages (0.15)\n",
            "Requirement already satisfied: networkx in /usr/local/lib/python3.7/dist-packages (from python-louvain) (2.6.3)\n",
            "Requirement already satisfied: numpy in /usr/local/lib/python3.7/dist-packages (from python-louvain) (1.19.5)\n"
          ]
        }
      ]
    },
    {
      "cell_type": "code",
      "metadata": {
        "id": "JcdKU9p7tmHl"
      },
      "source": [
        "import community.community_louvain as community_louvain\n",
        "\n",
        "partion = community_louvain.best_partition(G)"
      ],
      "execution_count": null,
      "outputs": []
    },
    {
      "cell_type": "code",
      "metadata": {
        "id": "zuPeAiRFy5Bf"
      },
      "source": [
        "num_com = len(list(set([i for i in partion.values()])))"
      ],
      "execution_count": null,
      "outputs": []
    },
    {
      "cell_type": "code",
      "metadata": {
        "colab": {
          "base_uri": "https://localhost:8080/"
        },
        "id": "Gb7wKTQA0C5Y",
        "outputId": "14e28832-b62c-4137-8c5c-fa7c7e9b570f"
      },
      "source": [
        "num_com"
      ],
      "execution_count": null,
      "outputs": [
        {
          "data": {
            "text/plain": [
              "166"
            ]
          },
          "execution_count": 40,
          "metadata": {},
          "output_type": "execute_result"
        }
      ]
    },
    {
      "cell_type": "code",
      "metadata": {
        "id": "LTJtmCPiz4Z_"
      },
      "source": [
        "from collections import Counter\n",
        "\n",
        "com_size = Counter(partion.values())"
      ],
      "execution_count": null,
      "outputs": []
    },
    {
      "cell_type": "code",
      "metadata": {
        "id": "CO-wbfKN0T8f"
      },
      "source": [
        "inv_partion = {}\n",
        "\n",
        "for k, v in partion.items():\n",
        "    inv_partion[v] = inv_partion.get(v, []) + [k]"
      ],
      "execution_count": null,
      "outputs": []
    },
    {
      "cell_type": "code",
      "metadata": {
        "colab": {
          "base_uri": "https://localhost:8080/",
          "height": 51,
          "referenced_widgets": [
            "8f5f5148e8c1400a8703afc33bde5433",
            "f395d812d93d4b968d1eca0be8701deb",
            "f16a29d108af4217b3996350ba6de75c",
            "6896149a3c164ac4aa80ec38484376ef",
            "7f3737e2029a4611a8a71fecfecfa673",
            "ca92a56bbb0a49f9aff910655f32fe59",
            "3c1f5ec89e3142d89101778435513996",
            "e1ea7115d6b44a739aa283f1f5e8963d",
            "1b366a4ad28c4a6f9e987454f3d39474",
            "0042ddcf13ea43eeac6110b73dfc49f7",
            "003d7a9fdda84f5691d9870d0005b191"
          ]
        },
        "id": "UXr8AHPVyxcu",
        "outputId": "ed1a756c-6631-429d-c5cc-0d965c877f63"
      },
      "source": [
        "community_centrality = dict()\n",
        "\n",
        "for node in tqdm.tqdm(list(G.nodes)):\n",
        "  neighbors = [n for n in G.neighbors(node)]\n",
        "  community_centrality[node] = 0.\n",
        "\n",
        "  for i in range(num_com):\n",
        "    com_nodes = inv_partion[i]\n",
        "    n_c = len(com_nodes)\n",
        "    d_c = len(list(set(com_nodes) & set(neighbors)))\n",
        "    community_centrality[node] += d_c*n_c / n_nodes"
      ],
      "execution_count": null,
      "outputs": [
        {
          "data": {
            "application/vnd.jupyter.widget-view+json": {
              "model_id": "8f5f5148e8c1400a8703afc33bde5433",
              "version_major": 2,
              "version_minor": 0
            },
            "text/plain": [
              "  0%|          | 0/217801 [00:00<?, ?it/s]"
            ]
          },
          "metadata": {},
          "output_type": "display_data"
        }
      ]
    },
    {
      "cell_type": "code",
      "metadata": {
        "id": "1E8-dj5MUM2Q"
      },
      "source": [
        "X_train = np.zeros((n_train, 7))\n",
        "y_train = np.zeros(n_train)\n",
        "for i,row in df_train.iterrows():\n",
        "    node = row['author']\n",
        "    X_train[i,0] = G.degree(node)\n",
        "    X_train[i,1] = core_number[node]\n",
        "    X_train[i,2] = page_rank[node]\n",
        "    X_train[i,3] = average_neighbor_deg[node]\n",
        "    X_train[i,4] = onion_layers[node]\n",
        "    X_train[i,5] = diversity_coeff[node]\n",
        "    X_train[i,6] = community_centrality[node]\n",
        "    y_train[i] = row['hindex']"
      ],
      "execution_count": null,
      "outputs": []
    },
    {
      "cell_type": "code",
      "metadata": {
        "id": "6rYzx45HUPb6"
      },
      "source": [
        "X_test = np.zeros((n_test, 7))\n",
        "for i,row in df_test.iterrows():\n",
        "    node = row['author']\n",
        "    X_test[i,0] = G.degree(node)\n",
        "    X_test[i,1] = core_number[node]\n",
        "    X_test[i,2] = page_rank[node]\n",
        "    X_test[i,3] = average_neighbor_deg[node]\n",
        "    X_test[i,4] = onion_layers[node]\n",
        "    X_test[i,5] = diversity_coeff[node]\n",
        "    X_test[i,6] = community_centrality[node]"
      ],
      "execution_count": null,
      "outputs": []
    },
    {
      "cell_type": "code",
      "metadata": {
        "id": "lPkHZ2bt6lny"
      },
      "source": [
        "with open(DATA_DIR + 'train.npy', 'wb') as f:\n",
        "  np.save(f, X_train)\n",
        "\n",
        "with open(DATA_DIR + 'test.npy', 'wb') as f:\n",
        "  np.save(f, X_test)"
      ],
      "execution_count": null,
      "outputs": []
    },
    {
      "cell_type": "code",
      "metadata": {
        "id": "5xkcgH_F6yM3"
      },
      "source": [
        "with open(DATA_DIR + 'train.npy', 'rb') as f:\n",
        "  X_train = np.load(f)\n",
        "\n",
        "with open(DATA_DIR + 'test.npy', 'rb') as f:\n",
        "  X_test = np.load(f)"
      ],
      "execution_count": null,
      "outputs": []
    },
    {
      "cell_type": "code",
      "metadata": {
        "colab": {
          "base_uri": "https://localhost:8080/"
        },
        "id": "lNEMH4PVN9iy",
        "outputId": "53a7582a-b0c4-4b4f-9d82-1fa812c72beb"
      },
      "source": [
        "X_train.shape, X_test.shape"
      ],
      "execution_count": null,
      "outputs": [
        {
          "data": {
            "text/plain": [
              "((174241, 7), (43560, 7))"
            ]
          },
          "execution_count": 67,
          "metadata": {},
          "output_type": "execute_result"
        }
      ]
    },
    {
      "cell_type": "code",
      "metadata": {
        "id": "T1SMZ-UlhfP2"
      },
      "source": [
        "mean_train = X_train.mean(axis=0)\n",
        "std_train = X_train.std(axis=0)\n",
        "\n",
        "X_train = (X_train - mean_train) / std_train\n",
        "X_test = (X_test - mean_train) / std_train"
      ],
      "execution_count": null,
      "outputs": []
    },
    {
      "cell_type": "code",
      "metadata": {
        "id": "c0jiUkN_URlP"
      },
      "source": [
        "reg = Lasso(alpha=1.)\n",
        "reg.fit(X_train, y_train)\n",
        "y_pred = reg.predict(X_test)"
      ],
      "execution_count": null,
      "outputs": []
    },
    {
      "cell_type": "code",
      "metadata": {
        "colab": {
          "base_uri": "https://localhost:8080/"
        },
        "id": "9J36QL5_yxrh",
        "outputId": "05ba7c7b-f05c-4a71-9ca1-155eedf2fc80"
      },
      "source": [
        "rf = RandomForestRegressor(n_estimators = 100, random_state = 42)\n",
        "rf.fit(X_train, y_train)"
      ],
      "execution_count": null,
      "outputs": [
        {
          "data": {
            "text/plain": [
              "RandomForestRegressor(random_state=42)"
            ]
          },
          "execution_count": 58,
          "metadata": {},
          "output_type": "execute_result"
        }
      ]
    },
    {
      "cell_type": "code",
      "metadata": {
        "id": "8yMEjVuoy3U6"
      },
      "source": [
        "y_pred = rf.predict(X_test)"
      ],
      "execution_count": null,
      "outputs": []
    },
    {
      "cell_type": "code",
      "metadata": {
        "id": "ub8Mq3NWUTkD"
      },
      "source": [
        "df_test['hindex'] = pd.Series(np.round_(y_pred, decimals=3))\n",
        "\n",
        "\n",
        "df_test.loc[:,[\"author\",\"hindex\"]].to_csv(DATA_DIR + 'inf554-2021/submission_14.csv', index=False)"
      ],
      "execution_count": null,
      "outputs": []
    },
    {
      "cell_type": "markdown",
      "metadata": {
        "id": "a7I9zLfCsPsI"
      },
      "source": [
        "## Graph Neural Network"
      ]
    },
    {
      "cell_type": "code",
      "metadata": {
        "id": "rbYN3yDXxSKf"
      },
      "source": [
        "class GCN(torch.nn.Module):\n",
        "    def __init__(self, c_in, c_out):\n",
        "        super().__init__()\n",
        "        self.conv1 = GCNConv(c_in, 32)\n",
        "        self.conv2 = GCNConv(32, c_out)\n",
        "\n",
        "    def forward(self, data):\n",
        "        x, edge_index = data.x, data.edge_index\n",
        "\n",
        "        x = self.conv1(x, edge_index)\n",
        "        x = F.relu(x)\n",
        "        x = F.dropout(x, training=self.training)\n",
        "        x = self.conv2(x, edge_index)\n",
        "\n",
        "        return x"
      ],
      "execution_count": null,
      "outputs": []
    },
    {
      "cell_type": "code",
      "metadata": {
        "id": "pa-uDwDFuGAT"
      },
      "source": [
        "def train_graph_classifier():\n",
        "  batch_size = df_train.shape[0] // 90\n",
        "  num_iterations = df_train.shape[0] // batch_size\n",
        "\n",
        "  model = GCN(c_in=X_train.shape[1], c_out=1)\n",
        "        \n",
        "  model = model.to(device)\n",
        "  optimizer = torch.optim.Adam(model.parameters(), lr=0.01, weight_decay=0.0005)\n",
        "  criterion = nn.L1Loss()\n",
        "  criterion = criterion.to(device)\n",
        "\n",
        "  model.train()\n",
        "  for epoch in range(200):\n",
        "    running_loss = 0.\n",
        "\n",
        "    for iteration in range(num_iterations):\n",
        "      dict_author = dict(zip(df_train.author[iteration*batch_size:(iteration+1)*batch_size], \n",
        "                             df_train.index[:batch_size]))\n",
        "      G_train = G.subgraph(df_train.author.to_list()[iteration*batch_size:(iteration+1)*batch_size])\n",
        "\n",
        "      G_train = G_train.to_directed() if not nx.is_directed(G_train) else G_train\n",
        "      edges = list(itertools.chain(*list(G_train.edges)))\n",
        "      edge_index = torch.tensor(np.array(list(map(lambda x: dict_author[x], edges)))).reshape(2, -1)\n",
        "\n",
        "      train_data = Data(x=torch.tensor(X_train.astype(np.float32)[iteration*batch_size:(iteration+1)*batch_size]), \n",
        "                        edge_index=edge_index.long(), \n",
        "                        y=torch.tensor(y_train[iteration*batch_size:(iteration+1)*batch_size, :]))\n",
        "      data = train_data.to(device)\n",
        "\n",
        "      optimizer.zero_grad()\n",
        "      out = model(data)\n",
        "      loss = criterion(out, data.y.float())\n",
        "      loss.backward()\n",
        "      optimizer.step()\n",
        "\n",
        "      running_loss += loss.item()\n",
        "    if epoch % 10 == 9:\n",
        "        print('Epoch %d, loss: %.3f' %\n",
        "              (epoch + 1, running_loss / (10 * num_iterations)))\n",
        "        running_loss = 0.0\n",
        "\n",
        "  print('Finished Training')\n",
        "\n",
        "  return model"
      ],
      "execution_count": null,
      "outputs": []
    },
    {
      "cell_type": "code",
      "metadata": {
        "colab": {
          "background_save": true,
          "base_uri": "https://localhost:8080/"
        },
        "id": "lSvl4FyKuaq5",
        "outputId": "31f6c281-bdbb-4ad5-c918-f838ad2fc038"
      },
      "source": [
        "model = train_graph_classifier()"
      ],
      "execution_count": null,
      "outputs": [
        {
          "name": "stdout",
          "output_type": "stream",
          "text": [
            "Epoch 10, loss: 0.648\n",
            "Epoch 20, loss: 0.635\n",
            "Epoch 30, loss: 0.634\n",
            "Epoch 40, loss: 0.633\n",
            "Epoch 50, loss: 0.633\n",
            "Epoch 60, loss: 0.632\n",
            "Epoch 70, loss: 0.632\n",
            "Epoch 80, loss: 0.632\n",
            "Epoch 90, loss: 0.631\n",
            "Epoch 100, loss: 0.631\n",
            "Epoch 110, loss: 0.632\n",
            "Epoch 120, loss: 0.632\n",
            "Epoch 130, loss: 0.632\n",
            "Epoch 140, loss: 0.632\n",
            "Epoch 150, loss: 0.632\n",
            "Epoch 160, loss: 0.631\n",
            "Epoch 170, loss: 0.632\n",
            "Epoch 180, loss: 0.632\n",
            "Epoch 190, loss: 0.631\n",
            "Epoch 200, loss: 0.631\n",
            "Finished Training\n"
          ]
        }
      ]
    },
    {
      "cell_type": "code",
      "metadata": {
        "id": "2xyz1ZwREXmX"
      },
      "source": [
        "dict_author_test = dict(zip(df_test.author, df_test.index))"
      ],
      "execution_count": null,
      "outputs": []
    },
    {
      "cell_type": "code",
      "metadata": {
        "id": "Q54T1sB1EF3u"
      },
      "source": [
        "G_test = G.subgraph(df_test.author.to_list())\n",
        "\n",
        "G_test = G_test.to_directed() if not nx.is_directed(G_test) else G_test\n",
        "edges = list(itertools.chain(*list(G_test.edges)))\n",
        "edge_index = torch.tensor(np.array(list(map(lambda x: dict_author_test[x], edges)))).reshape(2, -1)\n",
        "\n",
        "test_data = Data(x=torch.tensor(X_test.astype(np.float32)), edge_index=edge_index.long())\n",
        "torch.save(test_data, DATA_DIR  + 'graph_data_test.pt')"
      ],
      "execution_count": null,
      "outputs": []
    },
    {
      "cell_type": "code",
      "metadata": {
        "colab": {
          "base_uri": "https://localhost:8080/"
        },
        "id": "NBYvMtRGERXO",
        "outputId": "b2676d97-a986-4e85-87a9-98e379564ab8"
      },
      "source": [
        "test_data"
      ],
      "execution_count": null,
      "outputs": [
        {
          "data": {
            "text/plain": [
              "Data(x=[43560, 7], edge_index=[2, 130888])"
            ]
          },
          "execution_count": 115,
          "metadata": {},
          "output_type": "execute_result"
        }
      ]
    },
    {
      "cell_type": "code",
      "metadata": {
        "id": "rUhDkH8ODBtH"
      },
      "source": [
        "model.eval()\n",
        "test_data = test_data.to(device)\n",
        "pred = model(test_data)"
      ],
      "execution_count": null,
      "outputs": []
    },
    {
      "cell_type": "code",
      "metadata": {
        "id": "RL-0elBRErxI"
      },
      "source": [
        "df_test['hindex'] = pd.Series(np.round_(pred.cpu().detach().numpy().squeeze(), decimals=3))"
      ],
      "execution_count": null,
      "outputs": []
    },
    {
      "cell_type": "code",
      "metadata": {
        "id": "8U83TuJmEnGq"
      },
      "source": [
        "df_test.hindex = df_test.hindex.apply(lambda x: np.round(x))"
      ],
      "execution_count": null,
      "outputs": []
    },
    {
      "cell_type": "code",
      "metadata": {
        "colab": {
          "base_uri": "https://localhost:8080/",
          "height": 419
        },
        "id": "B0M95y9EX7tz",
        "outputId": "cb92057f-45f7-4619-878b-2ff698ee254b"
      },
      "source": [
        "df_test"
      ],
      "execution_count": null,
      "outputs": [
        {
          "data": {
            "text/html": [
              "<div>\n",
              "<style scoped>\n",
              "    .dataframe tbody tr th:only-of-type {\n",
              "        vertical-align: middle;\n",
              "    }\n",
              "\n",
              "    .dataframe tbody tr th {\n",
              "        vertical-align: top;\n",
              "    }\n",
              "\n",
              "    .dataframe thead th {\n",
              "        text-align: right;\n",
              "    }\n",
              "</style>\n",
              "<table border=\"1\" class=\"dataframe\">\n",
              "  <thead>\n",
              "    <tr style=\"text-align: right;\">\n",
              "      <th></th>\n",
              "      <th>author</th>\n",
              "      <th>hindex</th>\n",
              "    </tr>\n",
              "  </thead>\n",
              "  <tbody>\n",
              "    <tr>\n",
              "      <th>0</th>\n",
              "      <td>915630815</td>\n",
              "      <td>6.0</td>\n",
              "    </tr>\n",
              "    <tr>\n",
              "      <th>1</th>\n",
              "      <td>1236455448</td>\n",
              "      <td>9.0</td>\n",
              "    </tr>\n",
              "    <tr>\n",
              "      <th>2</th>\n",
              "      <td>2694593333</td>\n",
              "      <td>10.0</td>\n",
              "    </tr>\n",
              "    <tr>\n",
              "      <th>3</th>\n",
              "      <td>2137926699</td>\n",
              "      <td>6.0</td>\n",
              "    </tr>\n",
              "    <tr>\n",
              "      <th>4</th>\n",
              "      <td>2883694285</td>\n",
              "      <td>9.0</td>\n",
              "    </tr>\n",
              "    <tr>\n",
              "      <th>...</th>\n",
              "      <td>...</td>\n",
              "      <td>...</td>\n",
              "    </tr>\n",
              "    <tr>\n",
              "      <th>43555</th>\n",
              "      <td>2145559725</td>\n",
              "      <td>6.0</td>\n",
              "    </tr>\n",
              "    <tr>\n",
              "      <th>43556</th>\n",
              "      <td>2168342616</td>\n",
              "      <td>6.0</td>\n",
              "    </tr>\n",
              "    <tr>\n",
              "      <th>43557</th>\n",
              "      <td>2162797290</td>\n",
              "      <td>15.0</td>\n",
              "    </tr>\n",
              "    <tr>\n",
              "      <th>43558</th>\n",
              "      <td>294576894</td>\n",
              "      <td>10.0</td>\n",
              "    </tr>\n",
              "    <tr>\n",
              "      <th>43559</th>\n",
              "      <td>2508925065</td>\n",
              "      <td>18.0</td>\n",
              "    </tr>\n",
              "  </tbody>\n",
              "</table>\n",
              "<p>43560 rows × 2 columns</p>\n",
              "</div>"
            ],
            "text/plain": [
              "           author  hindex\n",
              "0       915630815     6.0\n",
              "1      1236455448     9.0\n",
              "2      2694593333    10.0\n",
              "3      2137926699     6.0\n",
              "4      2883694285     9.0\n",
              "...           ...     ...\n",
              "43555  2145559725     6.0\n",
              "43556  2168342616     6.0\n",
              "43557  2162797290    15.0\n",
              "43558   294576894    10.0\n",
              "43559  2508925065    18.0\n",
              "\n",
              "[43560 rows x 2 columns]"
            ]
          },
          "execution_count": 130,
          "metadata": {},
          "output_type": "execute_result"
        }
      ]
    },
    {
      "cell_type": "code",
      "metadata": {
        "id": "3Y6Hk7Z1vUZ_"
      },
      "source": [
        "df_test.loc[:,[\"author\",\"hindex\"]].to_csv(DATA_DIR + 'inf554-2021/submission_6.csv', index=False)"
      ],
      "execution_count": null,
      "outputs": []
    },
    {
      "cell_type": "markdown",
      "metadata": {
        "id": "bkG92H0BF5Q4"
      },
      "source": [
        "## Multilayer Perceptron (MLP)"
      ]
    },
    {
      "cell_type": "code",
      "metadata": {
        "id": "cGpKaYHxabqO"
      },
      "source": [
        "y_train = np.array(df_train.hindex.values).reshape(-1,1)"
      ],
      "execution_count": null,
      "outputs": []
    },
    {
      "cell_type": "code",
      "metadata": {
        "id": "IAEEe1hzX9jU"
      },
      "source": [
        "train_ratio = 0.9\n",
        "\n",
        "n_train_examples = int(len(X_train) * train_ratio)\n",
        "n_valid_examples = len(X_train) - n_train_examples"
      ],
      "execution_count": null,
      "outputs": []
    },
    {
      "cell_type": "code",
      "metadata": {
        "id": "Ci5rvutCH_3c"
      },
      "source": [
        "class MyDataset(Dataset):\n",
        "    def __init__(self, data, labels):\n",
        "        self.data = torch.tensor(data).to(torch.float32)\n",
        "        self.labels = torch.tensor(labels).reshape(-1, 1).to(torch.float32)\n",
        "\n",
        "    def __len__(self):\n",
        "        return len(self.data)\n",
        "\n",
        "    def __getitem__(self, idx):\n",
        "        return self.data[idx], self.labels[idx]"
      ],
      "execution_count": null,
      "outputs": []
    },
    {
      "cell_type": "code",
      "metadata": {
        "id": "zbpmjtrRHGSx"
      },
      "source": [
        "#train_data = MyDataset(np.delete(X_train, 5, 1), y_train)\n",
        "train_data = MyDataset(X_train, y_train)\n",
        "\n",
        "train_data, valid_data = data.random_split(train_data, \n",
        "                                           [n_train_examples, n_valid_examples])"
      ],
      "execution_count": null,
      "outputs": []
    },
    {
      "cell_type": "code",
      "metadata": {
        "colab": {
          "base_uri": "https://localhost:8080/"
        },
        "id": "m5-QU2zVHS-q",
        "outputId": "43636e38-f666-4bc6-c693-288d12ad6422"
      },
      "source": [
        "print(f'Number of training examples: {len(train_data)}')\n",
        "print(f'Number of validation examples: {len(valid_data)}')"
      ],
      "execution_count": null,
      "outputs": [
        {
          "name": "stdout",
          "output_type": "stream",
          "text": [
            "Number of training examples: 156816\n",
            "Number of validation examples: 17425\n"
          ]
        }
      ]
    },
    {
      "cell_type": "code",
      "metadata": {
        "id": "76CZTZI2HZxg"
      },
      "source": [
        "batch_size = 32\n",
        "\n",
        "train_loader = data.DataLoader(train_data, shuffle=True, batch_size=batch_size)\n",
        "\n",
        "valid_loader = data.DataLoader(valid_data, batch_size=batch_size)\n",
        "\n",
        "test_loader = data.DataLoader(X_test, batch_size=batch_size)"
      ],
      "execution_count": null,
      "outputs": []
    },
    {
      "cell_type": "code",
      "metadata": {
        "id": "J-r9QUshI5Wl"
      },
      "source": [
        "class MLP(nn.Module):\n",
        "    def __init__(self, input_dim, output_dim):\n",
        "        super().__init__()\n",
        "                \n",
        "        self.input_fc = nn.Linear(input_dim, 64)\n",
        "        #self.batch_norm1 = nn.BatchNorm1d(32)\n",
        "        #self.hidden_fc1 = nn.Linear(32, 64)\n",
        "        #self.batch_norm2 = nn.BatchNorm1d(64)\n",
        "        #self.hidden_fc2 = nn.Linear(128, 64)\n",
        "        #self.hidden_fc3 = nn.Linear(64, 32)\n",
        "        self.output_fc = nn.Linear(64, output_dim)\n",
        "\n",
        "        self.dropout = nn.Dropout(.1)\n",
        "        \n",
        "    def forward(self, x):\n",
        "\n",
        "        batch_size = x.shape[0]\n",
        "\n",
        "        x = x.view(batch_size, -1)\n",
        "\n",
        "        x = self.dropout(x)\n",
        "\n",
        "        #h_1 = F.relu(self.batch_norm1(self.input_fc(x)))\n",
        "        h_1 = F.relu(self.input_fc(x))\n",
        "        #h_1 = self.dropout(h_1)\n",
        "\n",
        "        #h_2 = F.relu(self.batch_norm2(self.hidden_fc1(h_1)))\n",
        "        #h_2 = F.relu(self.hidden_fc1(h_1))\n",
        "        #h_2 = self.dropout(h_2)\n",
        "        #h_3 = F.relu(self.hidden_fc2(h_2))\n",
        "        #h_4 = F.relu(self.hidden_fc3(h_3))\n",
        "        y_pred = self.output_fc(h_1)\n",
        "        \n",
        "        return y_pred"
      ],
      "execution_count": null,
      "outputs": []
    },
    {
      "cell_type": "code",
      "metadata": {
        "id": "PXMIHRswI9Um"
      },
      "source": [
        "input_dim = X_train.shape[1]\n",
        "#input_dim = np.delete(X_train, 5, 1).shape[1]\n",
        "output_dim = 1\n",
        "\n",
        "model = MLP(input_dim, output_dim)"
      ],
      "execution_count": null,
      "outputs": []
    },
    {
      "cell_type": "code",
      "metadata": {
        "id": "5rRLOc_wJJUp"
      },
      "source": [
        "learning_rate = 0.01\n",
        "\n",
        "optimizer = optim.Adam(model.parameters(), lr=learning_rate)\n",
        "criterion = nn.L1Loss()\n",
        "\n",
        "model = model.to(device)\n",
        "criterion = criterion.to(device)"
      ],
      "execution_count": null,
      "outputs": []
    },
    {
      "cell_type": "code",
      "metadata": {
        "id": "rYlGzh3WJVpR"
      },
      "source": [
        "def train(model, dataloader, optimizer, criterion, device):\n",
        "    \n",
        "    epoch_loss = 0.\n",
        "    epoch_error = 0.\n",
        "    \n",
        "    model.train()\n",
        "    \n",
        "    for x, y in dataloader:\n",
        "        \n",
        "        x = x.to(device)\n",
        "        y = y.to(device)\n",
        "        \n",
        "        optimizer.zero_grad()\n",
        "                \n",
        "        y_pred = model(x)\n",
        "        \n",
        "        loss = criterion(y_pred, y)\n",
        "        \n",
        "        loss.backward()\n",
        "        \n",
        "        optimizer.step()\n",
        "        \n",
        "        epoch_loss += loss.item()\n",
        "        epoch_error += F.mse_loss(y_pred, y).item()\n",
        "        \n",
        "    return epoch_loss / len(dataloader), epoch_error / len(dataloader)"
      ],
      "execution_count": null,
      "outputs": []
    },
    {
      "cell_type": "code",
      "metadata": {
        "id": "hbUTbfIUXHAj"
      },
      "source": [
        "def evaluate(model, dataloader, criterion, device):\n",
        "    \n",
        "    epoch_loss = 0.\n",
        "    epoch_error = 0.\n",
        "    \n",
        "    model.eval()\n",
        "    \n",
        "    with torch.no_grad():\n",
        "        \n",
        "        for x, y in dataloader:\n",
        "\n",
        "            x = x.to(device)\n",
        "            y = y.to(device)\n",
        "\n",
        "            y_pred = model(x)\n",
        "\n",
        "            loss = criterion(y_pred, y)\n",
        "\n",
        "            epoch_loss += loss.item()\n",
        "            epoch_error += F.mse_loss(y_pred, y).item()\n",
        "        \n",
        "    return epoch_loss / len(dataloader), epoch_error / len(dataloader)"
      ],
      "execution_count": null,
      "outputs": []
    },
    {
      "cell_type": "code",
      "metadata": {
        "colab": {
          "base_uri": "https://localhost:8080/",
          "height": 1000
        },
        "id": "8LJKx3U1Jyum",
        "outputId": "17fbe15f-bd11-48cf-d5dc-a5e777eb30f1"
      },
      "source": [
        "num_epochs = 300\n",
        "\n",
        "best_valid_loss = float('inf')\n",
        "\n",
        "train_losses = []\n",
        "valid_losses = []\n",
        "\n",
        "train_errors = []\n",
        "valid_errors = []\n",
        "\n",
        "for epoch in range(num_epochs):\n",
        "    \n",
        "    train_loss, train_error = train(model, train_loader, optimizer, criterion, device)\n",
        "    valid_loss, valid_error = evaluate(model, valid_loader, criterion, device)\n",
        "\n",
        "    train_losses.append(train_loss)\n",
        "    valid_losses.append(valid_loss)\n",
        "\n",
        "    train_errors.append(train_error)\n",
        "    valid_errors.append(valid_error)\n",
        "    \n",
        "    if valid_loss < best_valid_loss:\n",
        "        best_valid_loss = valid_loss\n",
        "        torch.save(model.state_dict(), DATA_DIR + 'mlp-model_' + str(learning_rate) + '.pt')\n",
        "\n",
        "    if epoch % 10 == 0:\n",
        "      print(f'Epoch: {epoch:02}')\n",
        "      print(f'\\tTrain Loss: {train_loss:.3f}')\n",
        "      print(f'\\t Val. Loss: {valid_loss:.3f} ')\n",
        "      print()\n",
        "      print(f'\\tTrain MSE: {train_error:.3f}')\n",
        "      print(f'\\t Val. MSE: {valid_error:.3f} ')"
      ],
      "execution_count": null,
      "outputs": [
        {
          "name": "stdout",
          "output_type": "stream",
          "text": [
            "Epoch: 00\n",
            "\tTrain Loss: 5.997\n",
            "\t Val. Loss: 5.977 \n",
            "\n",
            "\tTrain MSE: 121.129\n",
            "\t Val. MSE: 124.211 \n",
            "Epoch: 10\n",
            "\tTrain Loss: 5.868\n",
            "\t Val. Loss: 5.865 \n",
            "\n",
            "\tTrain MSE: 116.857\n",
            "\t Val. MSE: 117.046 \n",
            "Epoch: 20\n",
            "\tTrain Loss: 5.859\n",
            "\t Val. Loss: 5.852 \n",
            "\n",
            "\tTrain MSE: 116.410\n",
            "\t Val. MSE: 119.425 \n",
            "Epoch: 30\n",
            "\tTrain Loss: 5.859\n",
            "\t Val. Loss: 5.868 \n",
            "\n",
            "\tTrain MSE: 116.652\n",
            "\t Val. MSE: 119.946 \n",
            "Epoch: 40\n",
            "\tTrain Loss: 5.857\n",
            "\t Val. Loss: 5.862 \n",
            "\n",
            "\tTrain MSE: 116.466\n",
            "\t Val. MSE: 119.713 \n",
            "Epoch: 50\n",
            "\tTrain Loss: 5.852\n",
            "\t Val. Loss: 5.864 \n",
            "\n",
            "\tTrain MSE: 116.217\n",
            "\t Val. MSE: 119.296 \n",
            "Epoch: 60\n",
            "\tTrain Loss: 5.852\n",
            "\t Val. Loss: 5.841 \n",
            "\n",
            "\tTrain MSE: 116.239\n",
            "\t Val. MSE: 114.760 \n",
            "Epoch: 70\n",
            "\tTrain Loss: 5.852\n",
            "\t Val. Loss: 5.843 \n",
            "\n",
            "\tTrain MSE: 116.501\n",
            "\t Val. MSE: 117.654 \n"
          ]
        },
        {
          "ename": "KeyboardInterrupt",
          "evalue": "ignored",
          "output_type": "error",
          "traceback": [
            "\u001b[0;31m---------------------------------------------------------------------------\u001b[0m",
            "\u001b[0;31mKeyboardInterrupt\u001b[0m                         Traceback (most recent call last)",
            "\u001b[0;32m<ipython-input-91-7db26402e785>\u001b[0m in \u001b[0;36m<module>\u001b[0;34m()\u001b[0m\n\u001b[1;32m     11\u001b[0m \u001b[0;32mfor\u001b[0m \u001b[0mepoch\u001b[0m \u001b[0;32min\u001b[0m \u001b[0mrange\u001b[0m\u001b[0;34m(\u001b[0m\u001b[0mnum_epochs\u001b[0m\u001b[0;34m)\u001b[0m\u001b[0;34m:\u001b[0m\u001b[0;34m\u001b[0m\u001b[0;34m\u001b[0m\u001b[0m\n\u001b[1;32m     12\u001b[0m \u001b[0;34m\u001b[0m\u001b[0m\n\u001b[0;32m---> 13\u001b[0;31m     \u001b[0mtrain_loss\u001b[0m\u001b[0;34m,\u001b[0m \u001b[0mtrain_error\u001b[0m \u001b[0;34m=\u001b[0m \u001b[0mtrain\u001b[0m\u001b[0;34m(\u001b[0m\u001b[0mmodel\u001b[0m\u001b[0;34m,\u001b[0m \u001b[0mtrain_loader\u001b[0m\u001b[0;34m,\u001b[0m \u001b[0moptimizer\u001b[0m\u001b[0;34m,\u001b[0m \u001b[0mcriterion\u001b[0m\u001b[0;34m,\u001b[0m \u001b[0mdevice\u001b[0m\u001b[0;34m)\u001b[0m\u001b[0;34m\u001b[0m\u001b[0;34m\u001b[0m\u001b[0m\n\u001b[0m\u001b[1;32m     14\u001b[0m     \u001b[0mvalid_loss\u001b[0m\u001b[0;34m,\u001b[0m \u001b[0mvalid_error\u001b[0m \u001b[0;34m=\u001b[0m \u001b[0mevaluate\u001b[0m\u001b[0;34m(\u001b[0m\u001b[0mmodel\u001b[0m\u001b[0;34m,\u001b[0m \u001b[0mvalid_loader\u001b[0m\u001b[0;34m,\u001b[0m \u001b[0mcriterion\u001b[0m\u001b[0;34m,\u001b[0m \u001b[0mdevice\u001b[0m\u001b[0;34m)\u001b[0m\u001b[0;34m\u001b[0m\u001b[0;34m\u001b[0m\u001b[0m\n\u001b[1;32m     15\u001b[0m \u001b[0;34m\u001b[0m\u001b[0m\n",
            "\u001b[0;32m<ipython-input-89-348aab61e928>\u001b[0m in \u001b[0;36mtrain\u001b[0;34m(model, dataloader, optimizer, criterion, device)\u001b[0m\n\u001b[1;32m     17\u001b[0m         \u001b[0mloss\u001b[0m \u001b[0;34m=\u001b[0m \u001b[0mcriterion\u001b[0m\u001b[0;34m(\u001b[0m\u001b[0my_pred\u001b[0m\u001b[0;34m,\u001b[0m \u001b[0my\u001b[0m\u001b[0;34m)\u001b[0m\u001b[0;34m\u001b[0m\u001b[0;34m\u001b[0m\u001b[0m\n\u001b[1;32m     18\u001b[0m \u001b[0;34m\u001b[0m\u001b[0m\n\u001b[0;32m---> 19\u001b[0;31m         \u001b[0mloss\u001b[0m\u001b[0;34m.\u001b[0m\u001b[0mbackward\u001b[0m\u001b[0;34m(\u001b[0m\u001b[0;34m)\u001b[0m\u001b[0;34m\u001b[0m\u001b[0;34m\u001b[0m\u001b[0m\n\u001b[0m\u001b[1;32m     20\u001b[0m \u001b[0;34m\u001b[0m\u001b[0m\n\u001b[1;32m     21\u001b[0m         \u001b[0moptimizer\u001b[0m\u001b[0;34m.\u001b[0m\u001b[0mstep\u001b[0m\u001b[0;34m(\u001b[0m\u001b[0;34m)\u001b[0m\u001b[0;34m\u001b[0m\u001b[0;34m\u001b[0m\u001b[0m\n",
            "\u001b[0;32m/usr/local/lib/python3.7/dist-packages/torch/_tensor.py\u001b[0m in \u001b[0;36mbackward\u001b[0;34m(self, gradient, retain_graph, create_graph, inputs)\u001b[0m\n\u001b[1;32m    305\u001b[0m                 \u001b[0mcreate_graph\u001b[0m\u001b[0;34m=\u001b[0m\u001b[0mcreate_graph\u001b[0m\u001b[0;34m,\u001b[0m\u001b[0;34m\u001b[0m\u001b[0;34m\u001b[0m\u001b[0m\n\u001b[1;32m    306\u001b[0m                 inputs=inputs)\n\u001b[0;32m--> 307\u001b[0;31m         \u001b[0mtorch\u001b[0m\u001b[0;34m.\u001b[0m\u001b[0mautograd\u001b[0m\u001b[0;34m.\u001b[0m\u001b[0mbackward\u001b[0m\u001b[0;34m(\u001b[0m\u001b[0mself\u001b[0m\u001b[0;34m,\u001b[0m \u001b[0mgradient\u001b[0m\u001b[0;34m,\u001b[0m \u001b[0mretain_graph\u001b[0m\u001b[0;34m,\u001b[0m \u001b[0mcreate_graph\u001b[0m\u001b[0;34m,\u001b[0m \u001b[0minputs\u001b[0m\u001b[0;34m=\u001b[0m\u001b[0minputs\u001b[0m\u001b[0;34m)\u001b[0m\u001b[0;34m\u001b[0m\u001b[0;34m\u001b[0m\u001b[0m\n\u001b[0m\u001b[1;32m    308\u001b[0m \u001b[0;34m\u001b[0m\u001b[0m\n\u001b[1;32m    309\u001b[0m     \u001b[0;32mdef\u001b[0m \u001b[0mregister_hook\u001b[0m\u001b[0;34m(\u001b[0m\u001b[0mself\u001b[0m\u001b[0;34m,\u001b[0m \u001b[0mhook\u001b[0m\u001b[0;34m)\u001b[0m\u001b[0;34m:\u001b[0m\u001b[0;34m\u001b[0m\u001b[0;34m\u001b[0m\u001b[0m\n",
            "\u001b[0;32m/usr/local/lib/python3.7/dist-packages/torch/autograd/__init__.py\u001b[0m in \u001b[0;36mbackward\u001b[0;34m(tensors, grad_tensors, retain_graph, create_graph, grad_variables, inputs)\u001b[0m\n\u001b[1;32m    154\u001b[0m     Variable._execution_engine.run_backward(\n\u001b[1;32m    155\u001b[0m         \u001b[0mtensors\u001b[0m\u001b[0;34m,\u001b[0m \u001b[0mgrad_tensors_\u001b[0m\u001b[0;34m,\u001b[0m \u001b[0mretain_graph\u001b[0m\u001b[0;34m,\u001b[0m \u001b[0mcreate_graph\u001b[0m\u001b[0;34m,\u001b[0m \u001b[0minputs\u001b[0m\u001b[0;34m,\u001b[0m\u001b[0;34m\u001b[0m\u001b[0;34m\u001b[0m\u001b[0m\n\u001b[0;32m--> 156\u001b[0;31m         allow_unreachable=True, accumulate_grad=True)  # allow_unreachable flag\n\u001b[0m\u001b[1;32m    157\u001b[0m \u001b[0;34m\u001b[0m\u001b[0m\n\u001b[1;32m    158\u001b[0m \u001b[0;34m\u001b[0m\u001b[0m\n",
            "\u001b[0;31mKeyboardInterrupt\u001b[0m: "
          ]
        }
      ]
    },
    {
      "cell_type": "code",
      "metadata": {
        "colab": {
          "base_uri": "https://localhost:8080/",
          "height": 282
        },
        "id": "3kIHBefEVW3V",
        "outputId": "ab34ae05-1902-4cec-b213-5adea4dd0aa8"
      },
      "source": [
        "import matplotlib.pyplot as plt\n",
        "\n",
        "plt.plot(np.arange(num_epochs), train_losses, label='Train MSE')\n",
        "plt.plot(np.arange(num_epochs), valid_losses, label='Validation MSE')\n",
        "plt.legend(loc='upper right')"
      ],
      "execution_count": null,
      "outputs": [
        {
          "data": {
            "text/plain": [
              "<matplotlib.legend.Legend at 0x7fe8f068e590>"
            ]
          },
          "execution_count": 115,
          "metadata": {},
          "output_type": "execute_result"
        },
        {
          "data": {
            "image/png": "[encoded data removed]",
            "text/plain": [
              "<Figure size 432x288 with 1 Axes>"
            ]
          },
          "metadata": {},
          "output_type": "display_data"
        }
      ]
    },
    {
      "cell_type": "code",
      "metadata": {
        "id": "6XiikRrsKJho"
      },
      "source": [
        "model.load_state_dict(torch.load(DATA_DIR + 'mlp-model_' + str(learning_rate) + '.pt'))\n",
        "\n",
        "y_pred = model(torch.tensor(X_test).to(torch.float32).to(device))"
      ],
      "execution_count": null,
      "outputs": []
    },
    {
      "cell_type": "code",
      "metadata": {
        "id": "4ybxdL9HTsmI"
      },
      "source": [
        "df_test['hindex'] = pd.Series(np.round_(y_pred.cpu().detach().numpy().squeeze(), decimals=3))\n",
        "\n",
        "\n",
        "df_test.loc[:,[\"author\",\"hindex\"]].to_csv(DATA_DIR + 'inf554-2021/submission_11.csv', index=False)"
      ],
      "execution_count": null,
      "outputs": []
    },
    {
      "cell_type": "markdown",
      "metadata": {
        "id": "aoN4qwR_3Iuq"
      },
      "source": [
        "## Node2Vec Embeddings"
      ]
    },
    {
      "cell_type": "code",
      "metadata": {
        "colab": {
          "base_uri": "https://localhost:8080/"
        },
        "id": "EsDxIwwVO1Wh",
        "outputId": "60bccd47-ac6a-48c2-cfc3-7de0b0c7d6a6"
      },
      "source": [
        "f = open(DATA_DIR + 'coauthorship.emb', 'r')\n",
        "\n",
        "print(f.readline())"
      ],
      "execution_count": null,
      "outputs": [
        {
          "name": "stdout",
          "output_type": "stream",
          "text": [
            "217801 128\n",
            "\n"
          ]
        }
      ]
    },
    {
      "cell_type": "code",
      "metadata": {
        "id": "_-DaXNLFPecb"
      },
      "source": [
        "embeddings = dict()"
      ],
      "execution_count": null,
      "outputs": []
    },
    {
      "cell_type": "code",
      "metadata": {
        "id": "u3zG1Qv2PbCG"
      },
      "source": [
        "for x in f:\n",
        "  emb = x.split(' ')\n",
        "  embeddings[int(emb[0])] = list(map(float, emb[1:]))"
      ],
      "execution_count": null,
      "outputs": []
    },
    {
      "cell_type": "code",
      "metadata": {
        "id": "vdgcsyxiPkXX"
      },
      "source": [
        "emb_train = [embeddings[x] for x in df_train.author.values]\n",
        "emb_train = np.array(emb_train)\n",
        "y_train = df_train.hindex.values.reshape(-1, 1)\n",
        "\n",
        "emb_test = [embeddings[x] for x in df_test.author.values]\n",
        "emb_test = np.array(emb_test)"
      ],
      "execution_count": null,
      "outputs": []
    },
    {
      "cell_type": "code",
      "metadata": {
        "id": "ajFye5BGtDkU"
      },
      "source": [
        "mean_train = emb_train.mean(axis=0)\n",
        "std_train = emb_train.std(axis=0)\n",
        "\n",
        "emb_train = (emb_train - mean_train) / std_train\n",
        "emb_test = (emb_test - mean_train) / std_train"
      ],
      "execution_count": null,
      "outputs": []
    },
    {
      "cell_type": "code",
      "metadata": {
        "id": "qupo6wn2ifFL"
      },
      "source": [
        "train_ratio = 0.9\n",
        "\n",
        "n_train_examples = int(len(emb_train) * train_ratio)\n",
        "n_valid_examples = len(emb_train) - n_train_examples\n",
        "\n",
        "train_data = MyDataset(emb_train, y_train)\n",
        "\n",
        "train_data, valid_data = data.random_split(train_data, \n",
        "                                           [n_train_examples, n_valid_examples])"
      ],
      "execution_count": null,
      "outputs": []
    },
    {
      "cell_type": "code",
      "metadata": {
        "id": "V50jvWbaiv37"
      },
      "source": [
        "batch_size = 64\n",
        "\n",
        "train_loader = data.DataLoader(train_data, shuffle=True, batch_size=batch_size)\n",
        "\n",
        "valid_loader = data.DataLoader(valid_data, batch_size=batch_size)\n",
        "\n",
        "test_loader = data.DataLoader(emb_test, batch_size=batch_size)"
      ],
      "execution_count": null,
      "outputs": []
    },
    {
      "cell_type": "code",
      "metadata": {
        "id": "NRyzfWZ7iRxt"
      },
      "source": [
        "input_dim = emb_train.shape[1]\n",
        "output_dim = 1\n",
        "\n",
        "model = MLP(input_dim, output_dim)"
      ],
      "execution_count": null,
      "outputs": []
    },
    {
      "cell_type": "code",
      "metadata": {
        "id": "UvYvINLti6aL"
      },
      "source": [
        "learning_rate = 0.01\n",
        "\n",
        "optimizer = optim.Adam(model.parameters(), lr=learning_rate)\n",
        "criterion = nn.L1Loss()\n",
        "\n",
        "model = model.to(device)\n",
        "criterion = criterion.to(device)"
      ],
      "execution_count": null,
      "outputs": []
    },
    {
      "cell_type": "code",
      "metadata": {
        "id": "W5uLrNzc7yAa"
      },
      "source": [
        ""
      ],
      "execution_count": null,
      "outputs": []
    },
    {
      "cell_type": "code",
      "metadata": {
        "colab": {
          "base_uri": "https://localhost:8080/",
          "height": 1000
        },
        "id": "gNttzk2UiYgQ",
        "outputId": "19e1bd17-a7cc-49fa-c4d6-d72f0dfdb497"
      },
      "source": [
        "num_epochs = 300\n",
        "\n",
        "best_valid_loss = float('inf')\n",
        "\n",
        "train_losses = []\n",
        "valid_losses = []\n",
        "\n",
        "train_errors = []\n",
        "valid_errors = []\n",
        "\n",
        "for epoch in range(num_epochs):\n",
        "    \n",
        "    train_loss, train_error = train(model, train_loader, optimizer, criterion, device)\n",
        "    valid_loss, valid_error = evaluate(model, valid_loader, criterion, device)\n",
        "\n",
        "    train_losses.append(train_loss)\n",
        "    valid_losses.append(valid_loss)\n",
        "\n",
        "    train_errors.append(train_error)\n",
        "    valid_errors.append(valid_error)\n",
        "    \n",
        "    if valid_loss < best_valid_loss:\n",
        "        best_valid_loss = valid_loss\n",
        "        torch.save(model.state_dict(), DATA_DIR + 'mlp-model_' + str(learning_rate) + '.pt')\n",
        "\n",
        "    if epoch % 10 == 0:\n",
        "      print(f'Epoch: {epoch:02}')\n",
        "      print(f'\\tTrain Loss: {train_loss:.3f}')\n",
        "      print(f'\\t Val. Loss: {valid_loss:.3f} ')\n",
        "      print()\n",
        "      print(f'\\tTrain MSE: {train_error:.3f}')\n",
        "      print(f'\\t Val. MSE: {valid_error:.3f} ')"
      ],
      "execution_count": null,
      "outputs": [
        {
          "name": "stdout",
          "output_type": "stream",
          "text": [
            "Epoch: 00\n",
            "\tTrain Loss: 6.624\n",
            "\t Val. Loss: 6.340 \n",
            "\n",
            "\tTrain MSE: 137.078\n",
            "\t Val. MSE: 131.548 \n",
            "Epoch: 10\n",
            "\tTrain Loss: 6.214\n",
            "\t Val. Loss: 6.058 \n",
            "\n",
            "\tTrain MSE: 122.989\n",
            "\t Val. MSE: 123.757 \n",
            "Epoch: 20\n",
            "\tTrain Loss: 6.131\n",
            "\t Val. Loss: 6.182 \n",
            "\n",
            "\tTrain MSE: 120.195\n",
            "\t Val. MSE: 131.680 \n",
            "Epoch: 30\n",
            "\tTrain Loss: 6.107\n",
            "\t Val. Loss: 6.205 \n",
            "\n",
            "\tTrain MSE: 119.132\n",
            "\t Val. MSE: 132.733 \n",
            "Epoch: 40\n",
            "\tTrain Loss: 6.101\n",
            "\t Val. Loss: 6.082 \n",
            "\n",
            "\tTrain MSE: 119.149\n",
            "\t Val. MSE: 127.606 \n",
            "Epoch: 50\n",
            "\tTrain Loss: 6.077\n",
            "\t Val. Loss: 6.196 \n",
            "\n",
            "\tTrain MSE: 118.614\n",
            "\t Val. MSE: 132.154 \n",
            "Epoch: 60\n",
            "\tTrain Loss: 6.069\n",
            "\t Val. Loss: 6.049 \n",
            "\n",
            "\tTrain MSE: 117.946\n",
            "\t Val. MSE: 125.964 \n",
            "Epoch: 70\n",
            "\tTrain Loss: 6.060\n",
            "\t Val. Loss: 6.074 \n",
            "\n",
            "\tTrain MSE: 117.891\n",
            "\t Val. MSE: 126.305 \n",
            "Epoch: 80\n",
            "\tTrain Loss: 6.068\n",
            "\t Val. Loss: 6.073 \n",
            "\n",
            "\tTrain MSE: 118.116\n",
            "\t Val. MSE: 127.362 \n",
            "Epoch: 90\n",
            "\tTrain Loss: 6.052\n",
            "\t Val. Loss: 6.106 \n",
            "\n",
            "\tTrain MSE: 117.827\n",
            "\t Val. MSE: 128.343 \n",
            "Epoch: 100\n",
            "\tTrain Loss: 6.063\n",
            "\t Val. Loss: 6.135 \n",
            "\n",
            "\tTrain MSE: 117.854\n",
            "\t Val. MSE: 129.834 \n",
            "Epoch: 110\n",
            "\tTrain Loss: 6.054\n",
            "\t Val. Loss: 6.043 \n",
            "\n",
            "\tTrain MSE: 117.347\n",
            "\t Val. MSE: 125.210 \n",
            "Epoch: 120\n",
            "\tTrain Loss: 6.049\n",
            "\t Val. Loss: 6.071 \n",
            "\n",
            "\tTrain MSE: 117.529\n",
            "\t Val. MSE: 126.557 \n",
            "Epoch: 130\n",
            "\tTrain Loss: 6.052\n",
            "\t Val. Loss: 6.170 \n",
            "\n",
            "\tTrain MSE: 117.634\n",
            "\t Val. MSE: 130.274 \n",
            "Epoch: 140\n",
            "\tTrain Loss: 6.043\n",
            "\t Val. Loss: 6.134 \n",
            "\n",
            "\tTrain MSE: 117.140\n",
            "\t Val. MSE: 128.589 \n",
            "Epoch: 150\n",
            "\tTrain Loss: 6.047\n",
            "\t Val. Loss: 6.085 \n",
            "\n",
            "\tTrain MSE: 117.362\n",
            "\t Val. MSE: 127.603 \n",
            "Epoch: 160\n",
            "\tTrain Loss: 6.044\n",
            "\t Val. Loss: 6.144 \n",
            "\n",
            "\tTrain MSE: 116.977\n",
            "\t Val. MSE: 130.042 \n",
            "Epoch: 170\n",
            "\tTrain Loss: 6.032\n",
            "\t Val. Loss: 6.031 \n",
            "\n",
            "\tTrain MSE: 116.663\n",
            "\t Val. MSE: 125.675 \n",
            "Epoch: 180\n",
            "\tTrain Loss: 6.032\n",
            "\t Val. Loss: 6.120 \n",
            "\n",
            "\tTrain MSE: 116.947\n",
            "\t Val. MSE: 127.967 \n",
            "Epoch: 190\n",
            "\tTrain Loss: 6.035\n",
            "\t Val. Loss: 6.035 \n",
            "\n",
            "\tTrain MSE: 117.359\n",
            "\t Val. MSE: 125.488 \n",
            "Epoch: 200\n",
            "\tTrain Loss: 6.036\n",
            "\t Val. Loss: 6.060 \n",
            "\n",
            "\tTrain MSE: 116.973\n",
            "\t Val. MSE: 125.978 \n",
            "Epoch: 210\n",
            "\tTrain Loss: 6.027\n",
            "\t Val. Loss: 6.170 \n",
            "\n",
            "\tTrain MSE: 116.412\n",
            "\t Val. MSE: 130.859 \n",
            "Epoch: 220\n",
            "\tTrain Loss: 6.022\n",
            "\t Val. Loss: 6.161 \n",
            "\n",
            "\tTrain MSE: 116.237\n",
            "\t Val. MSE: 131.230 \n",
            "Epoch: 230\n",
            "\tTrain Loss: 6.031\n",
            "\t Val. Loss: 6.075 \n",
            "\n",
            "\tTrain MSE: 116.637\n",
            "\t Val. MSE: 126.773 \n",
            "Epoch: 240\n",
            "\tTrain Loss: 6.020\n",
            "\t Val. Loss: 6.077 \n",
            "\n",
            "\tTrain MSE: 116.242\n",
            "\t Val. MSE: 126.742 \n",
            "Epoch: 250\n",
            "\tTrain Loss: 6.015\n",
            "\t Val. Loss: 6.187 \n",
            "\n",
            "\tTrain MSE: 116.029\n",
            "\t Val. MSE: 131.166 \n"
          ]
        },
        {
          "ename": "KeyboardInterrupt",
          "evalue": "ignored",
          "output_type": "error",
          "traceback": [
            "\u001b[0;31m---------------------------------------------------------------------------\u001b[0m",
            "\u001b[0;31mKeyboardInterrupt\u001b[0m                         Traceback (most recent call last)",
            "\u001b[0;32m<ipython-input-69-7db26402e785>\u001b[0m in \u001b[0;36m<module>\u001b[0;34m()\u001b[0m\n\u001b[1;32m     11\u001b[0m \u001b[0;32mfor\u001b[0m \u001b[0mepoch\u001b[0m \u001b[0;32min\u001b[0m \u001b[0mrange\u001b[0m\u001b[0;34m(\u001b[0m\u001b[0mnum_epochs\u001b[0m\u001b[0;34m)\u001b[0m\u001b[0;34m:\u001b[0m\u001b[0;34m\u001b[0m\u001b[0;34m\u001b[0m\u001b[0m\n\u001b[1;32m     12\u001b[0m \u001b[0;34m\u001b[0m\u001b[0m\n\u001b[0;32m---> 13\u001b[0;31m     \u001b[0mtrain_loss\u001b[0m\u001b[0;34m,\u001b[0m \u001b[0mtrain_error\u001b[0m \u001b[0;34m=\u001b[0m \u001b[0mtrain\u001b[0m\u001b[0;34m(\u001b[0m\u001b[0mmodel\u001b[0m\u001b[0;34m,\u001b[0m \u001b[0mtrain_loader\u001b[0m\u001b[0;34m,\u001b[0m \u001b[0moptimizer\u001b[0m\u001b[0;34m,\u001b[0m \u001b[0mcriterion\u001b[0m\u001b[0;34m,\u001b[0m \u001b[0mdevice\u001b[0m\u001b[0;34m)\u001b[0m\u001b[0;34m\u001b[0m\u001b[0;34m\u001b[0m\u001b[0m\n\u001b[0m\u001b[1;32m     14\u001b[0m     \u001b[0mvalid_loss\u001b[0m\u001b[0;34m,\u001b[0m \u001b[0mvalid_error\u001b[0m \u001b[0;34m=\u001b[0m \u001b[0mevaluate\u001b[0m\u001b[0;34m(\u001b[0m\u001b[0mmodel\u001b[0m\u001b[0;34m,\u001b[0m \u001b[0mvalid_loader\u001b[0m\u001b[0;34m,\u001b[0m \u001b[0mcriterion\u001b[0m\u001b[0;34m,\u001b[0m \u001b[0mdevice\u001b[0m\u001b[0;34m)\u001b[0m\u001b[0;34m\u001b[0m\u001b[0;34m\u001b[0m\u001b[0m\n\u001b[1;32m     15\u001b[0m \u001b[0;34m\u001b[0m\u001b[0m\n",
            "\u001b[0;32m<ipython-input-56-348aab61e928>\u001b[0m in \u001b[0;36mtrain\u001b[0;34m(model, dataloader, optimizer, criterion, device)\u001b[0m\n\u001b[1;32m     19\u001b[0m         \u001b[0mloss\u001b[0m\u001b[0;34m.\u001b[0m\u001b[0mbackward\u001b[0m\u001b[0;34m(\u001b[0m\u001b[0;34m)\u001b[0m\u001b[0;34m\u001b[0m\u001b[0;34m\u001b[0m\u001b[0m\n\u001b[1;32m     20\u001b[0m \u001b[0;34m\u001b[0m\u001b[0m\n\u001b[0;32m---> 21\u001b[0;31m         \u001b[0moptimizer\u001b[0m\u001b[0;34m.\u001b[0m\u001b[0mstep\u001b[0m\u001b[0;34m(\u001b[0m\u001b[0;34m)\u001b[0m\u001b[0;34m\u001b[0m\u001b[0;34m\u001b[0m\u001b[0m\n\u001b[0m\u001b[1;32m     22\u001b[0m \u001b[0;34m\u001b[0m\u001b[0m\n\u001b[1;32m     23\u001b[0m         \u001b[0mepoch_loss\u001b[0m \u001b[0;34m+=\u001b[0m \u001b[0mloss\u001b[0m\u001b[0;34m.\u001b[0m\u001b[0mitem\u001b[0m\u001b[0;34m(\u001b[0m\u001b[0;34m)\u001b[0m\u001b[0;34m\u001b[0m\u001b[0;34m\u001b[0m\u001b[0m\n",
            "\u001b[0;32m/usr/local/lib/python3.7/dist-packages/torch/optim/optimizer.py\u001b[0m in \u001b[0;36mwrapper\u001b[0;34m(*args, **kwargs)\u001b[0m\n\u001b[1;32m     86\u001b[0m                 \u001b[0mprofile_name\u001b[0m \u001b[0;34m=\u001b[0m \u001b[0;34m\"Optimizer.step#{}.step\"\u001b[0m\u001b[0;34m.\u001b[0m\u001b[0mformat\u001b[0m\u001b[0;34m(\u001b[0m\u001b[0mobj\u001b[0m\u001b[0;34m.\u001b[0m\u001b[0m__class__\u001b[0m\u001b[0;34m.\u001b[0m\u001b[0m__name__\u001b[0m\u001b[0;34m)\u001b[0m\u001b[0;34m\u001b[0m\u001b[0;34m\u001b[0m\u001b[0m\n\u001b[1;32m     87\u001b[0m                 \u001b[0;32mwith\u001b[0m \u001b[0mtorch\u001b[0m\u001b[0;34m.\u001b[0m\u001b[0mautograd\u001b[0m\u001b[0;34m.\u001b[0m\u001b[0mprofiler\u001b[0m\u001b[0;34m.\u001b[0m\u001b[0mrecord_function\u001b[0m\u001b[0;34m(\u001b[0m\u001b[0mprofile_name\u001b[0m\u001b[0;34m)\u001b[0m\u001b[0;34m:\u001b[0m\u001b[0;34m\u001b[0m\u001b[0;34m\u001b[0m\u001b[0m\n\u001b[0;32m---> 88\u001b[0;31m                     \u001b[0;32mreturn\u001b[0m \u001b[0mfunc\u001b[0m\u001b[0;34m(\u001b[0m\u001b[0;34m*\u001b[0m\u001b[0margs\u001b[0m\u001b[0;34m,\u001b[0m \u001b[0;34m**\u001b[0m\u001b[0mkwargs\u001b[0m\u001b[0;34m)\u001b[0m\u001b[0;34m\u001b[0m\u001b[0;34m\u001b[0m\u001b[0m\n\u001b[0m\u001b[1;32m     89\u001b[0m             \u001b[0;32mreturn\u001b[0m \u001b[0mwrapper\u001b[0m\u001b[0;34m\u001b[0m\u001b[0;34m\u001b[0m\u001b[0m\n\u001b[1;32m     90\u001b[0m \u001b[0;34m\u001b[0m\u001b[0m\n",
            "\u001b[0;32m/usr/local/lib/python3.7/dist-packages/torch/autograd/grad_mode.py\u001b[0m in \u001b[0;36mdecorate_context\u001b[0;34m(*args, **kwargs)\u001b[0m\n\u001b[1;32m     26\u001b[0m         \u001b[0;32mdef\u001b[0m \u001b[0mdecorate_context\u001b[0m\u001b[0;34m(\u001b[0m\u001b[0;34m*\u001b[0m\u001b[0margs\u001b[0m\u001b[0;34m,\u001b[0m \u001b[0;34m**\u001b[0m\u001b[0mkwargs\u001b[0m\u001b[0;34m)\u001b[0m\u001b[0;34m:\u001b[0m\u001b[0;34m\u001b[0m\u001b[0;34m\u001b[0m\u001b[0m\n\u001b[1;32m     27\u001b[0m             \u001b[0;32mwith\u001b[0m \u001b[0mself\u001b[0m\u001b[0;34m.\u001b[0m\u001b[0m__class__\u001b[0m\u001b[0;34m(\u001b[0m\u001b[0;34m)\u001b[0m\u001b[0;34m:\u001b[0m\u001b[0;34m\u001b[0m\u001b[0;34m\u001b[0m\u001b[0m\n\u001b[0;32m---> 28\u001b[0;31m                 \u001b[0;32mreturn\u001b[0m \u001b[0mfunc\u001b[0m\u001b[0;34m(\u001b[0m\u001b[0;34m*\u001b[0m\u001b[0margs\u001b[0m\u001b[0;34m,\u001b[0m \u001b[0;34m**\u001b[0m\u001b[0mkwargs\u001b[0m\u001b[0;34m)\u001b[0m\u001b[0;34m\u001b[0m\u001b[0;34m\u001b[0m\u001b[0m\n\u001b[0m\u001b[1;32m     29\u001b[0m         \u001b[0;32mreturn\u001b[0m \u001b[0mcast\u001b[0m\u001b[0;34m(\u001b[0m\u001b[0mF\u001b[0m\u001b[0;34m,\u001b[0m \u001b[0mdecorate_context\u001b[0m\u001b[0;34m)\u001b[0m\u001b[0;34m\u001b[0m\u001b[0;34m\u001b[0m\u001b[0m\n\u001b[1;32m     30\u001b[0m \u001b[0;34m\u001b[0m\u001b[0m\n",
            "\u001b[0;32m/usr/local/lib/python3.7/dist-packages/torch/optim/adam.py\u001b[0m in \u001b[0;36mstep\u001b[0;34m(self, closure)\u001b[0m\n\u001b[1;32m    142\u001b[0m                    \u001b[0mlr\u001b[0m\u001b[0;34m=\u001b[0m\u001b[0mgroup\u001b[0m\u001b[0;34m[\u001b[0m\u001b[0;34m'lr'\u001b[0m\u001b[0;34m]\u001b[0m\u001b[0;34m,\u001b[0m\u001b[0;34m\u001b[0m\u001b[0;34m\u001b[0m\u001b[0m\n\u001b[1;32m    143\u001b[0m                    \u001b[0mweight_decay\u001b[0m\u001b[0;34m=\u001b[0m\u001b[0mgroup\u001b[0m\u001b[0;34m[\u001b[0m\u001b[0;34m'weight_decay'\u001b[0m\u001b[0;34m]\u001b[0m\u001b[0;34m,\u001b[0m\u001b[0;34m\u001b[0m\u001b[0;34m\u001b[0m\u001b[0m\n\u001b[0;32m--> 144\u001b[0;31m                    eps=group['eps'])\n\u001b[0m\u001b[1;32m    145\u001b[0m         \u001b[0;32mreturn\u001b[0m \u001b[0mloss\u001b[0m\u001b[0;34m\u001b[0m\u001b[0;34m\u001b[0m\u001b[0m\n",
            "\u001b[0;32m/usr/local/lib/python3.7/dist-packages/torch/optim/_functional.py\u001b[0m in \u001b[0;36madam\u001b[0;34m(params, grads, exp_avgs, exp_avg_sqs, max_exp_avg_sqs, state_steps, amsgrad, beta1, beta2, lr, weight_decay, eps)\u001b[0m\n\u001b[1;32m     84\u001b[0m \u001b[0;34m\u001b[0m\u001b[0m\n\u001b[1;32m     85\u001b[0m         \u001b[0;31m# Decay the first and second moment running average coefficient\u001b[0m\u001b[0;34m\u001b[0m\u001b[0;34m\u001b[0m\u001b[0;34m\u001b[0m\u001b[0m\n\u001b[0;32m---> 86\u001b[0;31m         \u001b[0mexp_avg\u001b[0m\u001b[0;34m.\u001b[0m\u001b[0mmul_\u001b[0m\u001b[0;34m(\u001b[0m\u001b[0mbeta1\u001b[0m\u001b[0;34m)\u001b[0m\u001b[0;34m.\u001b[0m\u001b[0madd_\u001b[0m\u001b[0;34m(\u001b[0m\u001b[0mgrad\u001b[0m\u001b[0;34m,\u001b[0m \u001b[0malpha\u001b[0m\u001b[0;34m=\u001b[0m\u001b[0;36m1\u001b[0m \u001b[0;34m-\u001b[0m \u001b[0mbeta1\u001b[0m\u001b[0;34m)\u001b[0m\u001b[0;34m\u001b[0m\u001b[0;34m\u001b[0m\u001b[0m\n\u001b[0m\u001b[1;32m     87\u001b[0m         \u001b[0mexp_avg_sq\u001b[0m\u001b[0;34m.\u001b[0m\u001b[0mmul_\u001b[0m\u001b[0;34m(\u001b[0m\u001b[0mbeta2\u001b[0m\u001b[0;34m)\u001b[0m\u001b[0;34m.\u001b[0m\u001b[0maddcmul_\u001b[0m\u001b[0;34m(\u001b[0m\u001b[0mgrad\u001b[0m\u001b[0;34m,\u001b[0m \u001b[0mgrad\u001b[0m\u001b[0;34m.\u001b[0m\u001b[0mconj\u001b[0m\u001b[0;34m(\u001b[0m\u001b[0;34m)\u001b[0m\u001b[0;34m,\u001b[0m \u001b[0mvalue\u001b[0m\u001b[0;34m=\u001b[0m\u001b[0;36m1\u001b[0m \u001b[0;34m-\u001b[0m \u001b[0mbeta2\u001b[0m\u001b[0;34m)\u001b[0m\u001b[0;34m\u001b[0m\u001b[0;34m\u001b[0m\u001b[0m\n\u001b[1;32m     88\u001b[0m         \u001b[0;32mif\u001b[0m \u001b[0mamsgrad\u001b[0m\u001b[0;34m:\u001b[0m\u001b[0;34m\u001b[0m\u001b[0;34m\u001b[0m\u001b[0m\n",
            "\u001b[0;31mKeyboardInterrupt\u001b[0m: "
          ]
        }
      ]
    },
    {
      "cell_type": "code",
      "metadata": {
        "colab": {
          "base_uri": "https://localhost:8080/",
          "height": 282
        },
        "id": "P7gjuA4HjDN9",
        "outputId": "56ab14a4-c616-4749-8ae6-41f96cac14ef"
      },
      "source": [
        "plt.plot(np.arange(len(train_losses)), train_losses, label='Train MSE')\n",
        "plt.plot(np.arange(len(valid_losses)), valid_losses, label='Validation MSE')\n",
        "plt.legend(loc='upper right')"
      ],
      "execution_count": null,
      "outputs": [
        {
          "data": {
            "text/plain": [
              "<matplotlib.legend.Legend at 0x7fe8f58fbe90>"
            ]
          },
          "execution_count": 46,
          "metadata": {},
          "output_type": "execute_result"
        },
        {
          "data": {
            "image/png": "[encoded data removed]",
            "text/plain": [
              "<Figure size 432x288 with 1 Axes>"
            ]
          },
          "metadata": {},
          "output_type": "display_data"
        }
      ]
    },
    {
      "cell_type": "code",
      "metadata": {
        "id": "ppkPY-7ojLTI"
      },
      "source": [
        "model.load_state_dict(torch.load(DATA_DIR + 'mlp-model_' + str(learning_rate) + '.pt'))\n",
        "\n",
        "y_pred = model(torch.tensor(emb_test).to(torch.float32).to(device))"
      ],
      "execution_count": null,
      "outputs": []
    },
    {
      "cell_type": "code",
      "metadata": {
        "id": "0LKrS-CVjOLt"
      },
      "source": [
        "df_test['hindex'] = pd.Series(np.round_(y_pred.cpu().detach().numpy().squeeze(), decimals=3))\n",
        "\n",
        "\n",
        "df_test.loc[:,[\"author\",\"hindex\"]].to_csv(DATA_DIR + 'inf554-2021/submission_12.csv', index=False)"
      ],
      "execution_count": null,
      "outputs": []
    },
    {
      "cell_type": "code",
      "metadata": {
        "id": "IRKfvso6rRuH"
      },
      "source": [
        ""
      ],
      "execution_count": null,
      "outputs": []
    }
  ]
}